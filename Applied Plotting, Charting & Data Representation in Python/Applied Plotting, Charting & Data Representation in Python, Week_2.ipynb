{
 "cells": [
  {
   "cell_type": "markdown",
   "metadata": {},
   "source": [
    "# Assignment 2\n",
    "\n",
    "Before working on this assignment please read these instructions fully. In the submission area, you will notice that you can click the link to **Preview the Grading** for each step of the assignment. This is the criteria that will be used for peer grading. Please familiarize yourself with the criteria before beginning the assignment.\n",
    "\n",
    "An NOAA dataset has been stored in the file `data/C2A2_data/BinnedCsvs_d400/fb441e62df2d58994928907a91895ec62c2c42e6cd075c2700843b89.csv`. The data for this assignment comes from a subset of The National Centers for Environmental Information (NCEI) [Daily Global Historical Climatology Network](https://www1.ncdc.noaa.gov/pub/data/ghcn/daily/readme.txt) (GHCN-Daily). The GHCN-Daily is comprised of daily climate records from thousands of land surface stations across the globe.\n",
    "\n",
    "Each row in the assignment datafile corresponds to a single observation.\n",
    "\n",
    "The following variables are provided to you:\n",
    "\n",
    "* **id** : station identification code\n",
    "* **date** : date in YYYY-MM-DD format (e.g. 2012-01-24 = January 24, 2012)\n",
    "* **element** : indicator of element type\n",
    "    * TMAX : Maximum temperature (tenths of degrees C)\n",
    "    * TMIN : Minimum temperature (tenths of degrees C)\n",
    "* **value** : data value for element (tenths of degrees C)\n",
    "\n",
    "For this assignment, you must:\n",
    "\n",
    "1. Read the documentation and familiarize yourself with the dataset, then write some python code which returns a line graph of the record high and record low temperatures by day of the year over the period 2005-2014. The area between the record high and record low temperatures for each day should be shaded.\n",
    "2. Overlay a scatter of the 2015 data for any points (highs and lows) for which the ten year record (2005-2014) record high or record low was broken in 2015.\n",
    "3. Watch out for leap days (i.e. February 29th), it is reasonable to remove these points from the dataset for the purpose of this visualization.\n",
    "4. Make the visual nice! Leverage principles from the first module in this course when developing your solution. Consider issues such as legends, labels, and chart junk.\n",
    "\n",
    "The data you have been given is near **Ann Arbor, Michigan, United States**, and the stations the data comes from are shown on the map below."
   ]
  },
  {
   "cell_type": "code",
   "execution_count": null,
   "metadata": {
    "collapsed": false
   },
   "outputs": [],
   "source": [
    "import matplotlib.pyplot as plt\n",
    "import mplleaflet\n",
    "import pandas as pd\n",
    "%matplotlib inline\n",
    "\n",
    "def leaflet_plot_stations(binsize, hashid):\n",
    "\n",
    "    df = pd.read_csv('data/C2A2_data/BinSize_d{}.csv'.format(binsize))\n",
    "\n",
    "    station_locations_by_hash = df[df['hash'] == hashid]\n",
    "\n",
    "    lons = station_locations_by_hash['LONGITUDE'].tolist()\n",
    "    lats = station_locations_by_hash['LATITUDE'].tolist()\n",
    "\n",
    "    plt.figure(figsize=(8,8))\n",
    "\n",
    "    plt.scatter(lons, lats, c='r', alpha=0.7, s=200)\n",
    "\n",
    "    return mplleaflet.display()\n",
    "\n",
    "leaflet_plot_stations(400,'fb441e62df2d58994928907a91895ec62c2c42e6cd075c2700843b89')"
   ]
  },
  {
   "cell_type": "code",
   "execution_count": null,
   "metadata": {
    "collapsed": false
   },
   "outputs": [],
   "source": [
    "df=pd.read_csv('data/C2A2_data/BinnedCsvs_d400/fb441e62df2d58994928907a91895ec62c2c42e6cd075c2700843b89.csv')\n",
    "\n"
   ]
  },
  {
   "cell_type": "code",
   "execution_count": null,
   "metadata": {
    "collapsed": false
   },
   "outputs": [],
   "source": [
    "df['Year'],df['Month-Day']=zip(*df['Date'].apply(lambda x: (x[:4], x[5:])))\n",
    "new_df=df[df['Month-Day']!='02-29']\n",
    "new_df.head()\n",
    "\n",
    "\n",
    " "
   ]
  },
  {
   "cell_type": "code",
   "execution_count": null,
   "metadata": {
    "collapsed": false
   },
   "outputs": [],
   "source": [
    "d_min= new_df[(new_df['Element'] == 'TMIN') & (new_df['Year'] !='2015')]\n",
    "d_max=new_df[(new_df['Element'] == 'TMAX') & (new_df['Year'] !='2015')]"
   ]
  },
  {
   "cell_type": "code",
   "execution_count": null,
   "metadata": {
    "collapsed": false
   },
   "outputs": [],
   "source": [
    "d_min_2015=new_df[(new_df['Element'] == 'TMIN') & (new_df['Year'] =='2015')]\n",
    "\n",
    "d_max_2015=new_df[(new_df['Element'] == 'TMAX') & (new_df['Year'] =='2015')]\n"
   ]
  },
  {
   "cell_type": "code",
   "execution_count": null,
   "metadata": {
    "collapsed": false
   },
   "outputs": [],
   "source": [
    "#d_min['Data_Value'].values#head()\n",
    "min_10_years = d_min.min()\n",
    "max_10_years = d_max.max()\n",
    "max_10_years"
   ]
  },
  {
   "cell_type": "code",
   "execution_count": null,
   "metadata": {
    "collapsed": false
   },
   "outputs": [],
   "source": [
    "mask = (d_max_2015['Data_Value'] > max_10_years['Data_Value'])\n",
    "data_max = d_max_2015[mask]\n",
    "data_max['Date']=pd.to_datetime(data_max['Date'],infer_datetime_format=True)\n",
    "data_max.set_index('Date',inplace=True)\n",
    "\n"
   ]
  },
  {
   "cell_type": "code",
   "execution_count": null,
   "metadata": {
    "collapsed": false
   },
   "outputs": [],
   "source": [
    "mask = (d_min_2015['Data_Value'] < min_10_years['Data_Value'])\n",
    "data_min = d_min_2015[mask]\n",
    "data_min['Date']=pd.to_datetime(data_min['Date'],infer_datetime_format=True)\n",
    "data_min.set_index('Date',inplace=True)\n",
    "\n"
   ]
  },
  {
   "cell_type": "code",
   "execution_count": null,
   "metadata": {
    "collapsed": false
   },
   "outputs": [],
   "source": []
  },
  {
   "cell_type": "code",
   "execution_count": null,
   "metadata": {
    "collapsed": false
   },
   "outputs": [],
   "source": [
    "d_min_graph=new_df[new_df['Element'] == 'TMIN']\n",
    "d_min_graph.reset_index( inplace=False)\n",
    "d_min_graph.head()"
   ]
  },
  {
   "cell_type": "code",
   "execution_count": null,
   "metadata": {
    "collapsed": false
   },
   "outputs": [],
   "source": [
    "d_max_graph=new_df[new_df['Element'] == 'TMAX']\n",
    "d_max_graph.reset_index( inplace=False)\n",
    "d_max_graph.head()"
   ]
  },
  {
   "cell_type": "code",
   "execution_count": null,
   "metadata": {
    "collapsed": false
   },
   "outputs": [],
   "source": [
    "ak=d_max_graph.groupby('Date').Data_Value.max()\n",
    "ak_2=pd.DataFrame(ak)\n",
    "ak_2.reset_index(inplace=True)\n",
    "ak_2.rename(columns={'Date':'Date_1','Data_Value':'Data_Value_1'},inplace=True)\n",
    "ak_2.head()"
   ]
  },
  {
   "cell_type": "code",
   "execution_count": null,
   "metadata": {
    "collapsed": false
   },
   "outputs": [],
   "source": [
    "ak_3=d_min_graph.groupby('Date').Data_Value.min()\n",
    "ak_4=pd.DataFrame(ak_3)\n",
    "ak_4.reset_index(inplace=True)\n",
    "ak_4.rename(columns={'Date':'Date_1','Data_Value':'Data_Value_2'},inplace=True)\n",
    "ak_4.head()"
   ]
  },
  {
   "cell_type": "code",
   "execution_count": null,
   "metadata": {
    "collapsed": false
   },
   "outputs": [],
   "source": [
    "df_cd = pd.merge(ak_2,ak_4, how='outer', left_on = 'Date_1', right_on = 'Date_1')\n",
    "df_cd.head()\n",
    "\n"
   ]
  },
  {
   "cell_type": "code",
   "execution_count": null,
   "metadata": {
    "collapsed": false
   },
   "outputs": [],
   "source": [
    "import numpy as np\n",
    "date_index = np.arange('2005-01-01','2016-01-01', dtype='datetime64[D]')\n",
    "date_index"
   ]
  },
  {
   "cell_type": "code",
   "execution_count": null,
   "metadata": {
    "collapsed": false
   },
   "outputs": [],
   "source": [
    "df_cd['Date_1']=pd.to_datetime(df_cd['Date_1'],infer_datetime_format=True)\n",
    "df_cd.set_index('Date_1', inplace=True)\n",
    "df_cd.head()                  \n"
   ]
  },
  {
   "cell_type": "code",
   "execution_count": null,
   "metadata": {
    "collapsed": false
   },
   "outputs": [],
   "source": [
    "import numpy as np\n",
    "plt.figure(figsize=(24,14))\n",
    "plt.plot(df_cd.index, df_cd.Data_Value_1, color='lightblue',linewidth=1)\n",
    "plt.plot(df_cd.index,df_cd.Data_Value_2,color='pink', linewidth=1)\n",
    "\n",
    "\n",
    "plt.scatter(data_max.index,data_max.Data_Value, s = 100, c = 'black')\n",
    "plt.scatter(data_min.index,data_min.Data_Value, s =100 , c = 'black')\n",
    "\n",
    "\n",
    "plt.gca().fill_between(((df_cd.index)), \n",
    "                       df_cd['Data_Value_2'], df_cd['Data_Value_1'],\n",
    "                       facecolor='black', \n",
    "                       alpha=0.25)\n",
    "plt.xlabel('Year')\n",
    "plt.ylabel('Temperature')\n",
    "plt.title('High and low temperatures by day of the year over the period 2005-2015')\n",
    "\n",
    "plt.legend(['Maximum Temperature', 'Maximum Temperature','broken low','broken high'])\n",
    "\n",
    "plt.show()"
   ]
  }
 ],
 "metadata": {
  "kernelspec": {
   "display_name": "Python 3",
   "language": "python",
   "name": "python3"
  },
  "language_info": {
   "codemirror_mode": {
    "name": "ipython",
    "version": 3
   },
   "file_extension": ".py",
   "mimetype": "text/x-python",
   "name": "python",
   "nbconvert_exporter": "python",
   "pygments_lexer": "ipython3",
   "version": "3.6.2"
  }
 },
 "nbformat": 4,
 "nbformat_minor": 1
}
