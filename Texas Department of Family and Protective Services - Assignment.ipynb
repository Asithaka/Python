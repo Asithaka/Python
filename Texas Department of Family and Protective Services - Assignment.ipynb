{
 "cells": [
  {
   "cell_type": "markdown",
   "metadata": {},
   "source": [
    "#### Load necessary libraries"
   ]
  },
  {
   "cell_type": "code",
   "execution_count": 1,
   "metadata": {},
   "outputs": [],
   "source": [
    "import pandas as pd\n",
    "import numpy as np\n",
    "import seaborn as sns\n",
    "import matplotlib.pyplot as plt\n",
    "from scipy.stats import chi2_contingency\n",
    "%matplotlib inline"
   ]
  },
  {
   "cell_type": "markdown",
   "metadata": {},
   "source": [
    "#### Load the datasets"
   ]
  },
  {
   "cell_type": "code",
   "execution_count": 2,
   "metadata": {},
   "outputs": [],
   "source": [
    "df_1=pd.read_excel(r'C:\\Users\\asith\\Downloads\\Operation 1 Raw Data.xlsx',sheet_name='ADP')\n",
    "df_2=pd.read_excel(r'C:\\Users\\asith\\Downloads\\Operation 1 Raw Data.xlsx',sheet_name='Investigation Intakes',header=1)\n",
    "df_3=pd.read_excel(r'C:\\Users\\asith\\Downloads\\Operation 1 Raw Data.xlsx',sheet_name='Investigation Dispositions')\n",
    "df_4=pd.read_excel(r'C:\\Users\\asith\\Downloads\\Operation 1 Raw Data.xlsx',sheet_name='Deficiencies')"
   ]
  },
  {
   "cell_type": "code",
   "execution_count": 3,
   "metadata": {},
   "outputs": [
    {
     "data": {
      "text/plain": [
       "Year      int64\n",
       "ADP     float64\n",
       "dtype: object"
      ]
     },
     "execution_count": 3,
     "metadata": {},
     "output_type": "execute_result"
    }
   ],
   "source": [
    "df_1.dtypes"
   ]
  },
  {
   "cell_type": "code",
   "execution_count": 4,
   "metadata": {},
   "outputs": [
    {
     "data": {
      "text/plain": [
       "([<matplotlib.axis.XTick at 0x1ce7f133948>,\n",
       "  <matplotlib.axis.XTick at 0x1ce7f0ff648>,\n",
       "  <matplotlib.axis.XTick at 0x1ce7f0ffcc8>],\n",
       " <a list of 3 Text xticklabel objects>)"
      ]
     },
     "execution_count": 4,
     "metadata": {},
     "output_type": "execute_result"
    },
    {
     "data": {
      "image/png": "[encoded data removed]",
      "text/plain": [
       "<Figure size 576x288 with 1 Axes>"
      ]
     },
     "metadata": {
      "needs_background": "light"
     },
     "output_type": "display_data"
    }
   ],
   "source": [
    "Year=[2017,2018,2019]\n",
    "ADP=[30.3,30.1,29.8]\n",
    "\n",
    "plt.figure(figsize=(8,4))\n",
    "y_pos = np.arange(len(Year))\n",
    "\n",
    "plt.bar(y_pos,ADP,color='purple',align='center')\n",
    "\n",
    "plt.xlabel('Year')\n",
    "plt.ylabel('Average Daily Placements')\n",
    "plt.title('Average Daily Placements Vs. Year')\n",
    "plt.xticks(y_pos, Year)\n"
   ]
  },
  {
   "cell_type": "code",
   "execution_count": 5,
   "metadata": {},
   "outputs": [
    {
     "data": {
      "text/html": [
       "<div>\n",
       "<style scoped>\n",
       "    .dataframe tbody tr th:only-of-type {\n",
       "        vertical-align: middle;\n",
       "    }\n",
       "\n",
       "    .dataframe tbody tr th {\n",
       "        vertical-align: top;\n",
       "    }\n",
       "\n",
       "    .dataframe thead th {\n",
       "        text-align: right;\n",
       "    }\n",
       "</style>\n",
       "<table border=\"1\" class=\"dataframe\">\n",
       "  <thead>\n",
       "    <tr style=\"text-align: right;\">\n",
       "      <th></th>\n",
       "      <th>INVESTIGATION PRIORITY</th>\n",
       "      <th>INTAKE DATE</th>\n",
       "      <th>REPORTER RELATIONSHIP</th>\n",
       "      <th>VICTIM AGE AT INTAKE</th>\n",
       "      <th>VICTIM SEX</th>\n",
       "      <th>ALLEGATION</th>\n",
       "      <th>PERPETRATOR RELATIONSHIP</th>\n",
       "    </tr>\n",
       "  </thead>\n",
       "  <tbody>\n",
       "    <tr>\n",
       "      <td>0</td>\n",
       "      <td>2</td>\n",
       "      <td>2020-04-27</td>\n",
       "      <td>Blank/Unknown</td>\n",
       "      <td>18.0</td>\n",
       "      <td>M</td>\n",
       "      <td>SXAB</td>\n",
       "      <td>Institut. Pers/vol.</td>\n",
       "    </tr>\n",
       "    <tr>\n",
       "      <td>1</td>\n",
       "      <td>2</td>\n",
       "      <td>2020-04-17</td>\n",
       "      <td>Other</td>\n",
       "      <td>17.0</td>\n",
       "      <td>M</td>\n",
       "      <td>NSUP</td>\n",
       "      <td>Institut. Pers/vol.</td>\n",
       "    </tr>\n",
       "    <tr>\n",
       "      <td>2</td>\n",
       "      <td>2</td>\n",
       "      <td>2020-04-17</td>\n",
       "      <td>Other</td>\n",
       "      <td>17.0</td>\n",
       "      <td>M</td>\n",
       "      <td>NSUP</td>\n",
       "      <td>Institut. Pers/vol.</td>\n",
       "    </tr>\n",
       "    <tr>\n",
       "      <td>3</td>\n",
       "      <td>2</td>\n",
       "      <td>2020-04-17</td>\n",
       "      <td>Other</td>\n",
       "      <td>17.0</td>\n",
       "      <td>M</td>\n",
       "      <td>NSUP</td>\n",
       "      <td>Institut. Pers/vol.</td>\n",
       "    </tr>\n",
       "    <tr>\n",
       "      <td>4</td>\n",
       "      <td>2</td>\n",
       "      <td>2020-04-17</td>\n",
       "      <td>Other</td>\n",
       "      <td>NaN</td>\n",
       "      <td>M</td>\n",
       "      <td>NSUP</td>\n",
       "      <td>Institut. Pers/vol.</td>\n",
       "    </tr>\n",
       "  </tbody>\n",
       "</table>\n",
       "</div>"
      ],
      "text/plain": [
       "   INVESTIGATION PRIORITY INTAKE DATE REPORTER RELATIONSHIP  \\\n",
       "0                       2  2020-04-27         Blank/Unknown   \n",
       "1                       2  2020-04-17                 Other   \n",
       "2                       2  2020-04-17                 Other   \n",
       "3                       2  2020-04-17                 Other   \n",
       "4                       2  2020-04-17                 Other   \n",
       "\n",
       "   VICTIM AGE AT INTAKE VICTIM SEX ALLEGATION PERPETRATOR RELATIONSHIP  \n",
       "0                  18.0          M       SXAB      Institut. Pers/vol.  \n",
       "1                  17.0          M       NSUP      Institut. Pers/vol.  \n",
       "2                  17.0          M       NSUP      Institut. Pers/vol.  \n",
       "3                  17.0          M       NSUP      Institut. Pers/vol.  \n",
       "4                   NaN          M       NSUP      Institut. Pers/vol.  "
      ]
     },
     "execution_count": 5,
     "metadata": {},
     "output_type": "execute_result"
    }
   ],
   "source": [
    "df_2.head()"
   ]
  },
  {
   "cell_type": "markdown",
   "metadata": {},
   "source": [
    "#### Contingency table for 'VICTIM SEX' and 'ALLEGATION'"
   ]
  },
  {
   "cell_type": "code",
   "execution_count": 6,
   "metadata": {},
   "outputs": [
    {
     "data": {
      "text/html": [
       "<div>\n",
       "<style scoped>\n",
       "    .dataframe tbody tr th:only-of-type {\n",
       "        vertical-align: middle;\n",
       "    }\n",
       "\n",
       "    .dataframe tbody tr th {\n",
       "        vertical-align: top;\n",
       "    }\n",
       "\n",
       "    .dataframe thead th {\n",
       "        text-align: right;\n",
       "    }\n",
       "</style>\n",
       "<table border=\"1\" class=\"dataframe\">\n",
       "  <thead>\n",
       "    <tr style=\"text-align: right;\">\n",
       "      <th>ALLEGATION</th>\n",
       "      <th>MDNG</th>\n",
       "      <th>NSUP</th>\n",
       "      <th>PHAB</th>\n",
       "      <th>SXAB</th>\n",
       "    </tr>\n",
       "    <tr>\n",
       "      <th>VICTIM SEX</th>\n",
       "      <th></th>\n",
       "      <th></th>\n",
       "      <th></th>\n",
       "      <th></th>\n",
       "    </tr>\n",
       "  </thead>\n",
       "  <tbody>\n",
       "    <tr>\n",
       "      <td>M</td>\n",
       "      <td>1</td>\n",
       "      <td>50</td>\n",
       "      <td>11</td>\n",
       "      <td>10</td>\n",
       "    </tr>\n",
       "    <tr>\n",
       "      <td>U</td>\n",
       "      <td>1</td>\n",
       "      <td>7</td>\n",
       "      <td>2</td>\n",
       "      <td>1</td>\n",
       "    </tr>\n",
       "  </tbody>\n",
       "</table>\n",
       "</div>"
      ],
      "text/plain": [
       "ALLEGATION  MDNG  NSUP  PHAB  SXAB\n",
       "VICTIM SEX                        \n",
       "M              1    50    11    10\n",
       "U              1     7     2     1"
      ]
     },
     "execution_count": 6,
     "metadata": {},
     "output_type": "execute_result"
    }
   ],
   "source": [
    "table_1=pd.crosstab(df_2['VICTIM SEX'],df_2['ALLEGATION'])\n",
    "table_1"
   ]
  },
  {
   "cell_type": "markdown",
   "metadata": {},
   "source": [
    "#### Use Chi-Squared test"
   ]
  },
  {
   "cell_type": "code",
   "execution_count": 7,
   "metadata": {},
   "outputs": [
    {
     "name": "stdout",
     "output_type": "stream",
     "text": [
      "P-value:0.4551947877482706\n"
     ]
    }
   ],
   "source": [
    "chi2_test = chi2_contingency(table_1)\n",
    "print('P-value:{}'.format(chi2_test[1]))"
   ]
  },
  {
   "cell_type": "markdown",
   "metadata": {},
   "source": [
    "#### Year converted into the fiscal year"
   ]
  },
  {
   "cell_type": "code",
   "execution_count": 8,
   "metadata": {},
   "outputs": [],
   "source": [
    "df_2.loc[(df_2['INTAKE DATE']>= '2019-09-01') & (df_2['INTAKE DATE'] <= '2020-08-31'),'FISCAL INTAKE YEAR'] =2020\n",
    "df_2.loc[(df_2['INTAKE DATE']>= '2018-09-01') & (df_2['INTAKE DATE'] <= '2019-08-31'),'FISCAL INTAKE YEAR'] =2019\n",
    "df_2.loc[(df_2['INTAKE DATE']>= '2017-09-01') & (df_2['INTAKE DATE'] <= '2018-08-31'),'FISCAL INTAKE YEAR'] =2018"
   ]
  },
  {
   "cell_type": "code",
   "execution_count": 9,
   "metadata": {},
   "outputs": [
    {
     "data": {
      "text/plain": [
       "INVESTIGATION PRIORITY               int64\n",
       "INTAKE DATE                 datetime64[ns]\n",
       "REPORTER RELATIONSHIP               object\n",
       "VICTIM AGE AT INTAKE               float64\n",
       "VICTIM SEX                          object\n",
       "ALLEGATION                          object\n",
       "PERPETRATOR RELATIONSHIP            object\n",
       "FISCAL INTAKE YEAR                 float64\n",
       "dtype: object"
      ]
     },
     "execution_count": 9,
     "metadata": {},
     "output_type": "execute_result"
    }
   ],
   "source": [
    "df_2.dtypes"
   ]
  },
  {
   "cell_type": "markdown",
   "metadata": {},
   "source": [
    "#### Drop the fiscal year 2020"
   ]
  },
  {
   "cell_type": "code",
   "execution_count": 10,
   "metadata": {},
   "outputs": [],
   "source": [
    "df_2_new=df_2[df_2['FISCAL INTAKE YEAR']!=2020]"
   ]
  },
  {
   "cell_type": "markdown",
   "metadata": {},
   "source": [
    "#### 'FISCAL INTAKE YEAR' converted into int64"
   ]
  },
  {
   "cell_type": "code",
   "execution_count": 11,
   "metadata": {},
   "outputs": [
    {
     "name": "stderr",
     "output_type": "stream",
     "text": [
      "C:\\Users\\asith\\Anaconda3\\lib\\site-packages\\ipykernel_launcher.py:1: SettingWithCopyWarning: \n",
      "A value is trying to be set on a copy of a slice from a DataFrame.\n",
      "Try using .loc[row_indexer,col_indexer] = value instead\n",
      "\n",
      "See the caveats in the documentation: http://pandas.pydata.org/pandas-docs/stable/user_guide/indexing.html#returning-a-view-versus-a-copy\n",
      "  \"\"\"Entry point for launching an IPython kernel.\n"
     ]
    }
   ],
   "source": [
    "df_2_new['FISCAL INTAKE YEAR']=df_2_new['FISCAL INTAKE YEAR'].astype(np.int64)"
   ]
  },
  {
   "cell_type": "markdown",
   "metadata": {},
   "source": [
    "#### Contingency table for 'FISCAL INTAKE YEAR' and 'ALLEGATION'"
   ]
  },
  {
   "cell_type": "code",
   "execution_count": 12,
   "metadata": {},
   "outputs": [
    {
     "data": {
      "text/html": [
       "<div>\n",
       "<style scoped>\n",
       "    .dataframe tbody tr th:only-of-type {\n",
       "        vertical-align: middle;\n",
       "    }\n",
       "\n",
       "    .dataframe tbody tr th {\n",
       "        vertical-align: top;\n",
       "    }\n",
       "\n",
       "    .dataframe thead th {\n",
       "        text-align: right;\n",
       "    }\n",
       "</style>\n",
       "<table border=\"1\" class=\"dataframe\">\n",
       "  <thead>\n",
       "    <tr style=\"text-align: right;\">\n",
       "      <th>ALLEGATION</th>\n",
       "      <th>MDNG</th>\n",
       "      <th>NSUP</th>\n",
       "      <th>PHAB</th>\n",
       "      <th>SXAB</th>\n",
       "      <th>All</th>\n",
       "    </tr>\n",
       "    <tr>\n",
       "      <th>FISCAL INTAKE YEAR</th>\n",
       "      <th></th>\n",
       "      <th></th>\n",
       "      <th></th>\n",
       "      <th></th>\n",
       "      <th></th>\n",
       "    </tr>\n",
       "  </thead>\n",
       "  <tbody>\n",
       "    <tr>\n",
       "      <td>2018</td>\n",
       "      <td>1</td>\n",
       "      <td>19</td>\n",
       "      <td>6</td>\n",
       "      <td>3</td>\n",
       "      <td>29</td>\n",
       "    </tr>\n",
       "    <tr>\n",
       "      <td>2019</td>\n",
       "      <td>0</td>\n",
       "      <td>10</td>\n",
       "      <td>6</td>\n",
       "      <td>4</td>\n",
       "      <td>20</td>\n",
       "    </tr>\n",
       "    <tr>\n",
       "      <td>All</td>\n",
       "      <td>1</td>\n",
       "      <td>29</td>\n",
       "      <td>12</td>\n",
       "      <td>7</td>\n",
       "      <td>49</td>\n",
       "    </tr>\n",
       "  </tbody>\n",
       "</table>\n",
       "</div>"
      ],
      "text/plain": [
       "ALLEGATION          MDNG  NSUP  PHAB  SXAB  All\n",
       "FISCAL INTAKE YEAR                             \n",
       "2018                   1    19     6     3   29\n",
       "2019                   0    10     6     4   20\n",
       "All                    1    29    12     7   49"
      ]
     },
     "execution_count": 12,
     "metadata": {},
     "output_type": "execute_result"
    }
   ],
   "source": [
    "table2=pd.crosstab(df_2_new['FISCAL INTAKE YEAR'],df_2_new['ALLEGATION'],margins=True)\n",
    "table2"
   ]
  },
  {
   "cell_type": "code",
   "execution_count": 13,
   "metadata": {},
   "outputs": [
    {
     "data": {
      "image/png": "[encoded data removed]",
      "text/plain": [
       "<Figure size 432x288 with 1 Axes>"
      ]
     },
     "metadata": {},
     "output_type": "display_data"
    }
   ],
   "source": [
    "sns.set_style('whitegrid')\n",
    "\n",
    "g=sns.countplot(x='FISCAL INTAKE YEAR',\n",
    "              hue='ALLEGATION',\n",
    "              data=df_2_new,\n",
    "              palette=[\"purple\",\"red\",\"blue\",\"green\"])\n",
    "\n",
    "g.set(xlabel='Fiscal Intake Year', ylabel='Allegation Count',title='Allegation Count Vs. Fiscal Intake Year')\n",
    "\n",
    "leg=g.get_legend()\n",
    "\n",
    "leg.set_title('Allegation Type')\n",
    "\n",
    "leg.set_bbox_to_anchor([1,1])\n",
    "\n",
    "for p in g.patches:\n",
    "        g.annotate('{:.0f}'.format(p.get_height()), (p.get_x()+0.10, p.get_height()),\n",
    "                        ha='center', va='bottom',color= 'black')"
   ]
  },
  {
   "cell_type": "code",
   "execution_count": 14,
   "metadata": {},
   "outputs": [
    {
     "data": {
      "text/plain": [
       "2018    29\n",
       "2019    20\n",
       "Name: FISCAL INTAKE YEAR, dtype: int64"
      ]
     },
     "execution_count": 14,
     "metadata": {},
     "output_type": "execute_result"
    }
   ],
   "source": [
    "df_2_new['FISCAL INTAKE YEAR'].value_counts()"
   ]
  },
  {
   "cell_type": "code",
   "execution_count": 15,
   "metadata": {},
   "outputs": [
    {
     "data": {
      "image/png": "[encoded data removed]",
      "text/plain": [
       "<Figure size 576x432 with 1 Axes>"
      ]
     },
     "metadata": {},
     "output_type": "display_data"
    }
   ],
   "source": [
    "plt.figure(figsize=(8,6))\n",
    "\n",
    "p=sns.countplot(x='FISCAL INTAKE YEAR',\n",
    "                data=df_2_new,\n",
    "                palette=[\"blue\"])\n",
    "\n",
    "p.set(xlabel='Total Count',ylabel='Fiscal Intake Year',title='Total Allegation Count Vs. Fiscal Intake Year')\n",
    "\n",
    "for t in p.patches:\n",
    "    height = t.get_height()\n",
    "    p.text(t.get_x()+t.get_width()/2., height + 0.1,height ,ha=\"center\")"
   ]
  },
  {
   "cell_type": "markdown",
   "metadata": {},
   "source": [
    "#### Contingency table for 'FISCAL INTAKE YEAR' and 'PERPETRATOR RELATIONSHIP'"
   ]
  },
  {
   "cell_type": "code",
   "execution_count": 16,
   "metadata": {},
   "outputs": [
    {
     "data": {
      "text/html": [
       "<div>\n",
       "<style scoped>\n",
       "    .dataframe tbody tr th:only-of-type {\n",
       "        vertical-align: middle;\n",
       "    }\n",
       "\n",
       "    .dataframe tbody tr th {\n",
       "        vertical-align: top;\n",
       "    }\n",
       "\n",
       "    .dataframe thead th {\n",
       "        text-align: right;\n",
       "    }\n",
       "</style>\n",
       "<table border=\"1\" class=\"dataframe\">\n",
       "  <thead>\n",
       "    <tr style=\"text-align: right;\">\n",
       "      <th>FISCAL INTAKE YEAR</th>\n",
       "      <th>2018</th>\n",
       "      <th>2019</th>\n",
       "    </tr>\n",
       "    <tr>\n",
       "      <th>PERPETRATOR RELATIONSHIP</th>\n",
       "      <th></th>\n",
       "      <th></th>\n",
       "    </tr>\n",
       "  </thead>\n",
       "  <tbody>\n",
       "    <tr>\n",
       "      <td>Institut. Pers/vol.</td>\n",
       "      <td>19</td>\n",
       "      <td>15</td>\n",
       "    </tr>\n",
       "    <tr>\n",
       "      <td>Other</td>\n",
       "      <td>1</td>\n",
       "      <td>0</td>\n",
       "    </tr>\n",
       "    <tr>\n",
       "      <td>Unknown</td>\n",
       "      <td>2</td>\n",
       "      <td>0</td>\n",
       "    </tr>\n",
       "  </tbody>\n",
       "</table>\n",
       "</div>"
      ],
      "text/plain": [
       "FISCAL INTAKE YEAR        2018  2019\n",
       "PERPETRATOR RELATIONSHIP            \n",
       "Institut. Pers/vol.         19    15\n",
       "Other                        1     0\n",
       "Unknown                      2     0"
      ]
     },
     "execution_count": 16,
     "metadata": {},
     "output_type": "execute_result"
    }
   ],
   "source": [
    "table_3=pd.crosstab(df_2_new['FISCAL INTAKE YEAR'],df_2_new['PERPETRATOR RELATIONSHIP'])\n",
    "table_3.T"
   ]
  },
  {
   "cell_type": "code",
   "execution_count": 17,
   "metadata": {},
   "outputs": [
    {
     "data": {
      "image/png": "[encoded data removed]",
      "text/plain": [
       "<Figure size 432x288 with 1 Axes>"
      ]
     },
     "metadata": {},
     "output_type": "display_data"
    }
   ],
   "source": [
    "sns.set_style('whitegrid')\n",
    "\n",
    "v=sns.countplot(x='FISCAL INTAKE YEAR',\n",
    "              hue='PERPETRATOR RELATIONSHIP',\n",
    "              data=df_2_new,\n",
    "              palette=[\"red\",\"blue\",\"green\"])\n",
    "\n",
    "v.set(xlabel='Fiscal Intake Year', ylabel='Perpetrator Relationship',title='Perpetrator Relationship Vs. Fiscal Intake Year')\n",
    "\n",
    "leg=v.get_legend()\n",
    "\n",
    "leg.set_title('Perpetrator Relationship')\n",
    "\n",
    "leg.set_bbox_to_anchor([1,1])\n",
    "\n",
    "for p in v.patches:\n",
    "        v.annotate('{:.0f}'.format(p.get_height()), (p.get_x()+0.15, p.get_height()),\n",
    "                        ha='center', va='bottom',color= 'black')"
   ]
  },
  {
   "cell_type": "code",
   "execution_count": 18,
   "metadata": {},
   "outputs": [
    {
     "data": {
      "text/html": [
       "<div>\n",
       "<style scoped>\n",
       "    .dataframe tbody tr th:only-of-type {\n",
       "        vertical-align: middle;\n",
       "    }\n",
       "\n",
       "    .dataframe tbody tr th {\n",
       "        vertical-align: top;\n",
       "    }\n",
       "\n",
       "    .dataframe thead th {\n",
       "        text-align: right;\n",
       "    }\n",
       "</style>\n",
       "<table border=\"1\" class=\"dataframe\">\n",
       "  <thead>\n",
       "    <tr style=\"text-align: right;\">\n",
       "      <th></th>\n",
       "      <th>Date Investigation Opened</th>\n",
       "      <th>Date Investigation Closed</th>\n",
       "      <th>Allegation Type</th>\n",
       "      <th>Allegation Disposition</th>\n",
       "    </tr>\n",
       "  </thead>\n",
       "  <tbody>\n",
       "    <tr>\n",
       "      <td>0</td>\n",
       "      <td>2020-04-18</td>\n",
       "      <td>2020-05-28</td>\n",
       "      <td>Neglectful Supervision</td>\n",
       "      <td>Ruled Out</td>\n",
       "    </tr>\n",
       "    <tr>\n",
       "      <td>1</td>\n",
       "      <td>2020-04-18</td>\n",
       "      <td>2020-05-28</td>\n",
       "      <td>Neglectful Supervision</td>\n",
       "      <td>Ruled Out</td>\n",
       "    </tr>\n",
       "    <tr>\n",
       "      <td>2</td>\n",
       "      <td>2020-04-18</td>\n",
       "      <td>2020-05-28</td>\n",
       "      <td>Neglectful Supervision</td>\n",
       "      <td>Ruled Out</td>\n",
       "    </tr>\n",
       "    <tr>\n",
       "      <td>3</td>\n",
       "      <td>2020-04-18</td>\n",
       "      <td>2020-05-28</td>\n",
       "      <td>Neglectful Supervision</td>\n",
       "      <td>Ruled Out</td>\n",
       "    </tr>\n",
       "    <tr>\n",
       "      <td>4</td>\n",
       "      <td>2020-04-18</td>\n",
       "      <td>2020-05-28</td>\n",
       "      <td>Neglectful Supervision</td>\n",
       "      <td>Ruled Out</td>\n",
       "    </tr>\n",
       "  </tbody>\n",
       "</table>\n",
       "</div>"
      ],
      "text/plain": [
       "  Date Investigation Opened Date Investigation Closed         Allegation Type  \\\n",
       "0                2020-04-18                2020-05-28  Neglectful Supervision   \n",
       "1                2020-04-18                2020-05-28  Neglectful Supervision   \n",
       "2                2020-04-18                2020-05-28  Neglectful Supervision   \n",
       "3                2020-04-18                2020-05-28  Neglectful Supervision   \n",
       "4                2020-04-18                2020-05-28  Neglectful Supervision   \n",
       "\n",
       "  Allegation Disposition  \n",
       "0              Ruled Out  \n",
       "1              Ruled Out  \n",
       "2              Ruled Out  \n",
       "3              Ruled Out  \n",
       "4              Ruled Out  "
      ]
     },
     "execution_count": 18,
     "metadata": {},
     "output_type": "execute_result"
    }
   ],
   "source": [
    "df_3.head()"
   ]
  },
  {
   "cell_type": "markdown",
   "metadata": {},
   "source": [
    "#### Contingency table for 'Allegation Type' and 'Allegation Disposition'"
   ]
  },
  {
   "cell_type": "code",
   "execution_count": 19,
   "metadata": {},
   "outputs": [
    {
     "data": {
      "text/html": [
       "<div>\n",
       "<style scoped>\n",
       "    .dataframe tbody tr th:only-of-type {\n",
       "        vertical-align: middle;\n",
       "    }\n",
       "\n",
       "    .dataframe tbody tr th {\n",
       "        vertical-align: top;\n",
       "    }\n",
       "\n",
       "    .dataframe thead th {\n",
       "        text-align: right;\n",
       "    }\n",
       "</style>\n",
       "<table border=\"1\" class=\"dataframe\">\n",
       "  <thead>\n",
       "    <tr style=\"text-align: right;\">\n",
       "      <th>Allegation Type</th>\n",
       "      <th>Emotional Abuse</th>\n",
       "      <th>Exploitation</th>\n",
       "      <th>Medical Neglect</th>\n",
       "      <th>Neglectful Supervision</th>\n",
       "      <th>Physical Abuse</th>\n",
       "      <th>Sexual Abuse</th>\n",
       "      <th>All</th>\n",
       "    </tr>\n",
       "    <tr>\n",
       "      <th>Allegation Disposition</th>\n",
       "      <th></th>\n",
       "      <th></th>\n",
       "      <th></th>\n",
       "      <th></th>\n",
       "      <th></th>\n",
       "      <th></th>\n",
       "      <th></th>\n",
       "    </tr>\n",
       "  </thead>\n",
       "  <tbody>\n",
       "    <tr>\n",
       "      <td>Admin Closure</td>\n",
       "      <td>0</td>\n",
       "      <td>1</td>\n",
       "      <td>1</td>\n",
       "      <td>2</td>\n",
       "      <td>0</td>\n",
       "      <td>1</td>\n",
       "      <td>5</td>\n",
       "    </tr>\n",
       "    <tr>\n",
       "      <td>Reason to Believe</td>\n",
       "      <td>0</td>\n",
       "      <td>0</td>\n",
       "      <td>0</td>\n",
       "      <td>7</td>\n",
       "      <td>2</td>\n",
       "      <td>3</td>\n",
       "      <td>12</td>\n",
       "    </tr>\n",
       "    <tr>\n",
       "      <td>Ruled Out</td>\n",
       "      <td>1</td>\n",
       "      <td>1</td>\n",
       "      <td>8</td>\n",
       "      <td>139</td>\n",
       "      <td>25</td>\n",
       "      <td>18</td>\n",
       "      <td>192</td>\n",
       "    </tr>\n",
       "    <tr>\n",
       "      <td>All</td>\n",
       "      <td>1</td>\n",
       "      <td>2</td>\n",
       "      <td>9</td>\n",
       "      <td>148</td>\n",
       "      <td>27</td>\n",
       "      <td>22</td>\n",
       "      <td>209</td>\n",
       "    </tr>\n",
       "  </tbody>\n",
       "</table>\n",
       "</div>"
      ],
      "text/plain": [
       "Allegation Type         Emotional Abuse  Exploitation  Medical Neglect  \\\n",
       "Allegation Disposition                                                   \n",
       "Admin Closure                         0             1                1   \n",
       "Reason to Believe                     0             0                0   \n",
       "Ruled Out                             1             1                8   \n",
       "All                                   1             2                9   \n",
       "\n",
       "Allegation Type         Neglectful Supervision  Physical Abuse  Sexual Abuse  \\\n",
       "Allegation Disposition                                                         \n",
       "Admin Closure                                2               0             1   \n",
       "Reason to Believe                            7               2             3   \n",
       "Ruled Out                                  139              25            18   \n",
       "All                                        148              27            22   \n",
       "\n",
       "Allegation Type         All  \n",
       "Allegation Disposition       \n",
       "Admin Closure             5  \n",
       "Reason to Believe        12  \n",
       "Ruled Out               192  \n",
       "All                     209  "
      ]
     },
     "execution_count": 19,
     "metadata": {},
     "output_type": "execute_result"
    }
   ],
   "source": [
    "table_4=pd.crosstab(df_3['Allegation Type'],df_3['Allegation Disposition'],margins=True)\n",
    "table_4.T"
   ]
  },
  {
   "cell_type": "code",
   "execution_count": 20,
   "metadata": {},
   "outputs": [
    {
     "data": {
      "text/plain": [
       "Date Investigation Opened    datetime64[ns]\n",
       "Date Investigation Closed    datetime64[ns]\n",
       "Allegation Type                      object\n",
       "Allegation Disposition               object\n",
       "dtype: object"
      ]
     },
     "execution_count": 20,
     "metadata": {},
     "output_type": "execute_result"
    }
   ],
   "source": [
    "df_3.dtypes"
   ]
  },
  {
   "cell_type": "code",
   "execution_count": 21,
   "metadata": {},
   "outputs": [],
   "source": [
    "df_3['Date Investigation Opened']=pd.to_datetime(df_3['Date Investigation Opened'])"
   ]
  },
  {
   "cell_type": "markdown",
   "metadata": {},
   "source": [
    "#### Year converted into the fiscal year"
   ]
  },
  {
   "cell_type": "code",
   "execution_count": 22,
   "metadata": {},
   "outputs": [],
   "source": [
    "df_3.loc[(df_3['Date Investigation Opened']>= '2019-09-01') & (df_3['Date Investigation Opened'] <= '2020-08-31'),'Fiscal Year Investigation Opened'] =2020\n",
    "df_3.loc[(df_3['Date Investigation Opened']>= '2018-09-01') & (df_3['Date Investigation Opened'] <= '2019-08-31'),'Fiscal Year Investigation Opened'] =2019\n",
    "df_3.loc[(df_3['Date Investigation Opened']>= '2017-09-01') & (df_3['Date Investigation Opened'] <= '2018-08-31'),'Fiscal Year Investigation Opened'] =2018\n",
    "df_3.loc[(df_3['Date Investigation Opened']>= '2016-09-01') & (df_3['Date Investigation Opened'] <= '2017-08-31'),'Fiscal Year Investigation Opened'] =2017\n",
    "df_3.loc[(df_3['Date Investigation Opened']>= '2015-09-01') & (df_3['Date Investigation Opened'] <= '2016-08-31'),'Fiscal Year Investigation Opened'] =2016\n",
    "df_3.loc[(df_3['Date Investigation Opened']>= '2014-09-01') & (df_3['Date Investigation Opened'] <= '2015-08-31'),'Fiscal Year Investigation Opened'] =2015\n",
    "df_3.loc[(df_3['Date Investigation Opened']>= '2013-09-01') & (df_3['Date Investigation Opened'] <= '2014-08-31'),'Fiscal Year Investigation Opened'] =2014"
   ]
  },
  {
   "cell_type": "code",
   "execution_count": 23,
   "metadata": {},
   "outputs": [
    {
     "data": {
      "text/plain": [
       "Date Investigation Opened           datetime64[ns]\n",
       "Date Investigation Closed           datetime64[ns]\n",
       "Allegation Type                             object\n",
       "Allegation Disposition                      object\n",
       "Fiscal Year Investigation Opened           float64\n",
       "dtype: object"
      ]
     },
     "execution_count": 23,
     "metadata": {},
     "output_type": "execute_result"
    }
   ],
   "source": [
    "df_3.dtypes"
   ]
  },
  {
   "cell_type": "markdown",
   "metadata": {},
   "source": [
    "#### Select data for the fiscal year 2017,2018, and 2019"
   ]
  },
  {
   "cell_type": "code",
   "execution_count": 24,
   "metadata": {},
   "outputs": [],
   "source": [
    "df_3_new=df_3[(df_3['Fiscal Year Investigation Opened']==2019) | (df_3['Fiscal Year Investigation Opened']==2018) | (df_3['Fiscal Year Investigation Opened']==2017)]"
   ]
  },
  {
   "cell_type": "code",
   "execution_count": 25,
   "metadata": {},
   "outputs": [
    {
     "name": "stderr",
     "output_type": "stream",
     "text": [
      "C:\\Users\\asith\\Anaconda3\\lib\\site-packages\\ipykernel_launcher.py:1: SettingWithCopyWarning: \n",
      "A value is trying to be set on a copy of a slice from a DataFrame.\n",
      "Try using .loc[row_indexer,col_indexer] = value instead\n",
      "\n",
      "See the caveats in the documentation: http://pandas.pydata.org/pandas-docs/stable/user_guide/indexing.html#returning-a-view-versus-a-copy\n",
      "  \"\"\"Entry point for launching an IPython kernel.\n"
     ]
    }
   ],
   "source": [
    "df_3_new['Fiscal Year Investigation Opened']=df_3_new['Fiscal Year Investigation Opened'].astype(np.int64)"
   ]
  },
  {
   "cell_type": "markdown",
   "metadata": {},
   "source": [
    "#### Calculate the percentage for the contingency table"
   ]
  },
  {
   "cell_type": "code",
   "execution_count": 26,
   "metadata": {},
   "outputs": [
    {
     "data": {
      "text/html": [
       "<div>\n",
       "<style scoped>\n",
       "    .dataframe tbody tr th:only-of-type {\n",
       "        vertical-align: middle;\n",
       "    }\n",
       "\n",
       "    .dataframe tbody tr th {\n",
       "        vertical-align: top;\n",
       "    }\n",
       "\n",
       "    .dataframe thead th {\n",
       "        text-align: right;\n",
       "    }\n",
       "</style>\n",
       "<table border=\"1\" class=\"dataframe\">\n",
       "  <thead>\n",
       "    <tr style=\"text-align: right;\">\n",
       "      <th>Fiscal Year Investigation Opened</th>\n",
       "      <th>2017</th>\n",
       "      <th>2018</th>\n",
       "      <th>2019</th>\n",
       "    </tr>\n",
       "    <tr>\n",
       "      <th>Allegation Disposition</th>\n",
       "      <th></th>\n",
       "      <th></th>\n",
       "      <th></th>\n",
       "    </tr>\n",
       "  </thead>\n",
       "  <tbody>\n",
       "    <tr>\n",
       "      <td>Admin Closure</td>\n",
       "      <td>0.022222</td>\n",
       "      <td>0.03125</td>\n",
       "      <td>0.041667</td>\n",
       "    </tr>\n",
       "    <tr>\n",
       "      <td>Reason to Believe</td>\n",
       "      <td>0.022222</td>\n",
       "      <td>0.12500</td>\n",
       "      <td>0.000000</td>\n",
       "    </tr>\n",
       "    <tr>\n",
       "      <td>Ruled Out</td>\n",
       "      <td>0.955556</td>\n",
       "      <td>0.84375</td>\n",
       "      <td>0.958333</td>\n",
       "    </tr>\n",
       "  </tbody>\n",
       "</table>\n",
       "</div>"
      ],
      "text/plain": [
       "Fiscal Year Investigation Opened      2017     2018      2019\n",
       "Allegation Disposition                                       \n",
       "Admin Closure                     0.022222  0.03125  0.041667\n",
       "Reason to Believe                 0.022222  0.12500  0.000000\n",
       "Ruled Out                         0.955556  0.84375  0.958333"
      ]
     },
     "execution_count": 26,
     "metadata": {},
     "output_type": "execute_result"
    }
   ],
   "source": [
    "table_5=pd.crosstab(df_3_new['Fiscal Year Investigation Opened'],df_3_new['Allegation Disposition']).apply(lambda r:r/r.sum(),axis=1)\n",
    "table_5.T\n"
   ]
  },
  {
   "cell_type": "markdown",
   "metadata": {},
   "source": [
    "#### Calculate the total count for the contingency table"
   ]
  },
  {
   "cell_type": "code",
   "execution_count": 27,
   "metadata": {},
   "outputs": [
    {
     "data": {
      "text/html": [
       "<div>\n",
       "<style scoped>\n",
       "    .dataframe tbody tr th:only-of-type {\n",
       "        vertical-align: middle;\n",
       "    }\n",
       "\n",
       "    .dataframe tbody tr th {\n",
       "        vertical-align: top;\n",
       "    }\n",
       "\n",
       "    .dataframe thead th {\n",
       "        text-align: right;\n",
       "    }\n",
       "</style>\n",
       "<table border=\"1\" class=\"dataframe\">\n",
       "  <thead>\n",
       "    <tr style=\"text-align: right;\">\n",
       "      <th>Fiscal Year Investigation Opened</th>\n",
       "      <th>2017</th>\n",
       "      <th>2018</th>\n",
       "      <th>2019</th>\n",
       "      <th>All</th>\n",
       "    </tr>\n",
       "    <tr>\n",
       "      <th>Allegation Disposition</th>\n",
       "      <th></th>\n",
       "      <th></th>\n",
       "      <th></th>\n",
       "      <th></th>\n",
       "    </tr>\n",
       "  </thead>\n",
       "  <tbody>\n",
       "    <tr>\n",
       "      <td>Admin Closure</td>\n",
       "      <td>1</td>\n",
       "      <td>1</td>\n",
       "      <td>2</td>\n",
       "      <td>4</td>\n",
       "    </tr>\n",
       "    <tr>\n",
       "      <td>Reason to Believe</td>\n",
       "      <td>1</td>\n",
       "      <td>4</td>\n",
       "      <td>0</td>\n",
       "      <td>5</td>\n",
       "    </tr>\n",
       "    <tr>\n",
       "      <td>Ruled Out</td>\n",
       "      <td>43</td>\n",
       "      <td>27</td>\n",
       "      <td>46</td>\n",
       "      <td>116</td>\n",
       "    </tr>\n",
       "    <tr>\n",
       "      <td>All</td>\n",
       "      <td>45</td>\n",
       "      <td>32</td>\n",
       "      <td>48</td>\n",
       "      <td>125</td>\n",
       "    </tr>\n",
       "  </tbody>\n",
       "</table>\n",
       "</div>"
      ],
      "text/plain": [
       "Fiscal Year Investigation Opened  2017  2018  2019  All\n",
       "Allegation Disposition                                 \n",
       "Admin Closure                        1     1     2    4\n",
       "Reason to Believe                    1     4     0    5\n",
       "Ruled Out                           43    27    46  116\n",
       "All                                 45    32    48  125"
      ]
     },
     "execution_count": 27,
     "metadata": {},
     "output_type": "execute_result"
    }
   ],
   "source": [
    "table_6=pd.crosstab(df_3_new['Fiscal Year Investigation Opened'],df_3_new['Allegation Disposition'],margins=True)\n",
    "table_6.T"
   ]
  },
  {
   "cell_type": "code",
   "execution_count": 28,
   "metadata": {},
   "outputs": [
    {
     "data": {
      "image/png": "[encoded data removed]",
      "text/plain": [
       "<Figure size 432x288 with 1 Axes>"
      ]
     },
     "metadata": {},
     "output_type": "display_data"
    }
   ],
   "source": [
    "sns.set_style('whitegrid')\n",
    "\n",
    "g=sns.countplot(x='Fiscal Year Investigation Opened',\n",
    "              hue='Allegation Disposition',\n",
    "              data=df_3_new,\n",
    "              palette=[\"blue\",\"green\",\"red\"])\n",
    "\n",
    "g.set(xlabel='Fiscal Year Investigation Opened', ylabel='Allegation Disposition',title='Allegation Disposition Vs. Fiscal Year Investigation Opened')\n",
    "\n",
    "leg=g.get_legend()\n",
    "\n",
    "leg.set_title('Allegation Disposition')\n",
    "\n",
    "leg.set_bbox_to_anchor([1,1])\n",
    "\n",
    "for p in g.patches:\n",
    "        g.annotate('{:.0f}'.format(p.get_height()), (p.get_x()+0.15, p.get_height()),\n",
    "                        ha='center', va='bottom',color= 'black')"
   ]
  },
  {
   "cell_type": "code",
   "execution_count": 29,
   "metadata": {},
   "outputs": [
    {
     "name": "stderr",
     "output_type": "stream",
     "text": [
      "C:\\Users\\asith\\Anaconda3\\lib\\site-packages\\ipykernel_launcher.py:1: SettingWithCopyWarning: \n",
      "A value is trying to be set on a copy of a slice from a DataFrame.\n",
      "Try using .loc[row_indexer,col_indexer] = value instead\n",
      "\n",
      "See the caveats in the documentation: http://pandas.pydata.org/pandas-docs/stable/user_guide/indexing.html#returning-a-view-versus-a-copy\n",
      "  \"\"\"Entry point for launching an IPython kernel.\n"
     ]
    }
   ],
   "source": [
    "df_3_new['Number_of_Day_for_Investigation']=(df_3_new['Date Investigation Closed']-df_3_new['Date Investigation Opened']).dt.days"
   ]
  },
  {
   "cell_type": "code",
   "execution_count": 30,
   "metadata": {},
   "outputs": [
    {
     "data": {
      "text/plain": [
       "Date Investigation Opened           datetime64[ns]\n",
       "Date Investigation Closed           datetime64[ns]\n",
       "Allegation Type                             object\n",
       "Allegation Disposition                      object\n",
       "Fiscal Year Investigation Opened             int64\n",
       "Number_of_Day_for_Investigation              int64\n",
       "dtype: object"
      ]
     },
     "execution_count": 30,
     "metadata": {},
     "output_type": "execute_result"
    }
   ],
   "source": [
    "df_3_new.dtypes"
   ]
  },
  {
   "cell_type": "code",
   "execution_count": 31,
   "metadata": {},
   "outputs": [
    {
     "data": {
      "text/html": [
       "<div>\n",
       "<style scoped>\n",
       "    .dataframe tbody tr th:only-of-type {\n",
       "        vertical-align: middle;\n",
       "    }\n",
       "\n",
       "    .dataframe tbody tr th {\n",
       "        vertical-align: top;\n",
       "    }\n",
       "\n",
       "    .dataframe thead th {\n",
       "        text-align: right;\n",
       "    }\n",
       "</style>\n",
       "<table border=\"1\" class=\"dataframe\">\n",
       "  <thead>\n",
       "    <tr style=\"text-align: right;\">\n",
       "      <th></th>\n",
       "      <th>Date Investigation Opened</th>\n",
       "      <th>Date Investigation Closed</th>\n",
       "      <th>Allegation Type</th>\n",
       "      <th>Allegation Disposition</th>\n",
       "      <th>Fiscal Year Investigation Opened</th>\n",
       "      <th>Number_of_Day_for_Investigation</th>\n",
       "    </tr>\n",
       "  </thead>\n",
       "  <tbody>\n",
       "    <tr>\n",
       "      <td>13</td>\n",
       "      <td>2019-06-13</td>\n",
       "      <td>2020-04-24</td>\n",
       "      <td>Sexual Abuse</td>\n",
       "      <td>Ruled Out</td>\n",
       "      <td>2019</td>\n",
       "      <td>316</td>\n",
       "    </tr>\n",
       "    <tr>\n",
       "      <td>14</td>\n",
       "      <td>2019-06-13</td>\n",
       "      <td>2020-04-24</td>\n",
       "      <td>Sexual Abuse</td>\n",
       "      <td>Ruled Out</td>\n",
       "      <td>2019</td>\n",
       "      <td>316</td>\n",
       "    </tr>\n",
       "    <tr>\n",
       "      <td>15</td>\n",
       "      <td>2019-07-01</td>\n",
       "      <td>2020-04-24</td>\n",
       "      <td>Medical Neglect</td>\n",
       "      <td>Ruled Out</td>\n",
       "      <td>2019</td>\n",
       "      <td>298</td>\n",
       "    </tr>\n",
       "    <tr>\n",
       "      <td>16</td>\n",
       "      <td>2019-07-01</td>\n",
       "      <td>2020-04-24</td>\n",
       "      <td>Neglectful Supervision</td>\n",
       "      <td>Ruled Out</td>\n",
       "      <td>2019</td>\n",
       "      <td>298</td>\n",
       "    </tr>\n",
       "    <tr>\n",
       "      <td>17</td>\n",
       "      <td>2019-07-01</td>\n",
       "      <td>2020-04-24</td>\n",
       "      <td>Medical Neglect</td>\n",
       "      <td>Ruled Out</td>\n",
       "      <td>2019</td>\n",
       "      <td>298</td>\n",
       "    </tr>\n",
       "  </tbody>\n",
       "</table>\n",
       "</div>"
      ],
      "text/plain": [
       "   Date Investigation Opened Date Investigation Closed  \\\n",
       "13                2019-06-13                2020-04-24   \n",
       "14                2019-06-13                2020-04-24   \n",
       "15                2019-07-01                2020-04-24   \n",
       "16                2019-07-01                2020-04-24   \n",
       "17                2019-07-01                2020-04-24   \n",
       "\n",
       "           Allegation Type Allegation Disposition  \\\n",
       "13            Sexual Abuse              Ruled Out   \n",
       "14            Sexual Abuse              Ruled Out   \n",
       "15         Medical Neglect              Ruled Out   \n",
       "16  Neglectful Supervision              Ruled Out   \n",
       "17         Medical Neglect              Ruled Out   \n",
       "\n",
       "    Fiscal Year Investigation Opened  Number_of_Day_for_Investigation  \n",
       "13                              2019                              316  \n",
       "14                              2019                              316  \n",
       "15                              2019                              298  \n",
       "16                              2019                              298  \n",
       "17                              2019                              298  "
      ]
     },
     "execution_count": 31,
     "metadata": {},
     "output_type": "execute_result"
    }
   ],
   "source": [
    "df_3_new.head()"
   ]
  },
  {
   "cell_type": "code",
   "execution_count": 32,
   "metadata": {},
   "outputs": [
    {
     "data": {
      "text/plain": [
       "Fiscal Year Investigation Opened\n",
       "2017     98.733333\n",
       "2018    194.718750\n",
       "2019    223.104167\n",
       "Name: Number_of_Day_for_Investigation, dtype: float64"
      ]
     },
     "execution_count": 32,
     "metadata": {},
     "output_type": "execute_result"
    }
   ],
   "source": [
    "df_3_new.groupby('Fiscal Year Investigation Opened').Number_of_Day_for_Investigation.mean()"
   ]
  },
  {
   "cell_type": "code",
   "execution_count": 33,
   "metadata": {},
   "outputs": [
    {
     "data": {
      "text/html": [
       "<div>\n",
       "<style scoped>\n",
       "    .dataframe tbody tr th:only-of-type {\n",
       "        vertical-align: middle;\n",
       "    }\n",
       "\n",
       "    .dataframe tbody tr th {\n",
       "        vertical-align: top;\n",
       "    }\n",
       "\n",
       "    .dataframe thead th {\n",
       "        text-align: right;\n",
       "    }\n",
       "</style>\n",
       "<table border=\"1\" class=\"dataframe\">\n",
       "  <thead>\n",
       "    <tr style=\"text-align: right;\">\n",
       "      <th></th>\n",
       "      <th>Activity Type (Inspection / Investigation / Assessment)</th>\n",
       "      <th>Activity ID (Inspection ID, Assessment ID,  Investigation Number )</th>\n",
       "      <th>Type (Inspection Type / Assessment Type)</th>\n",
       "      <th>Activity Date</th>\n",
       "      <th>Standard Cited</th>\n",
       "      <th>Standard Weight</th>\n",
       "      <th>Citation Status (Admin Review Status)</th>\n",
       "      <th>Standard Description</th>\n",
       "    </tr>\n",
       "  </thead>\n",
       "  <tbody>\n",
       "    <tr>\n",
       "      <td>0</td>\n",
       "      <td>Investigation</td>\n",
       "      <td>2573857</td>\n",
       "      <td>NaN</td>\n",
       "      <td>2019-12-02 00:00:00</td>\n",
       "      <td>748.683(1)</td>\n",
       "      <td>Medium</td>\n",
       "      <td>Waived</td>\n",
       "      <td>Caregiver Supervision-Provide oversight of car...</td>\n",
       "    </tr>\n",
       "    <tr>\n",
       "      <td>1</td>\n",
       "      <td>Investigation</td>\n",
       "      <td>2567054</td>\n",
       "      <td>NaN</td>\n",
       "      <td>2019-11-05 00:00:00</td>\n",
       "      <td>748.1693(a)(1)</td>\n",
       "      <td>High</td>\n",
       "      <td>Waived</td>\n",
       "      <td>Nutrition-Provide food of adequate variety, qu...</td>\n",
       "    </tr>\n",
       "    <tr>\n",
       "      <td>2</td>\n",
       "      <td>Investigation</td>\n",
       "      <td>2567054</td>\n",
       "      <td>NaN</td>\n",
       "      <td>2019-11-05 00:00:00</td>\n",
       "      <td>748.3301(a)</td>\n",
       "      <td>High</td>\n",
       "      <td>Waived</td>\n",
       "      <td>Physical Site-Buildings must be structurally s...</td>\n",
       "    </tr>\n",
       "    <tr>\n",
       "      <td>3</td>\n",
       "      <td>Inspection</td>\n",
       "      <td>3764325</td>\n",
       "      <td>Monitoring  Inspection</td>\n",
       "      <td>2019-10-28 16:30:00</td>\n",
       "      <td>748.1205(a)(1)</td>\n",
       "      <td>Medium Low</td>\n",
       "      <td>Waived</td>\n",
       "      <td>Admission Documentation-Includes child's name,...</td>\n",
       "    </tr>\n",
       "    <tr>\n",
       "      <td>4</td>\n",
       "      <td>Inspection</td>\n",
       "      <td>3764325</td>\n",
       "      <td>Monitoring  Inspection</td>\n",
       "      <td>2019-10-28 16:30:00</td>\n",
       "      <td>748.1205(a)(4)</td>\n",
       "      <td>Low</td>\n",
       "      <td>Waived</td>\n",
       "      <td>Admission Documentation-Includes names, addres...</td>\n",
       "    </tr>\n",
       "  </tbody>\n",
       "</table>\n",
       "</div>"
      ],
      "text/plain": [
       "  Activity Type (Inspection / Investigation / Assessment)   \\\n",
       "0                                      Investigation         \n",
       "1                                      Investigation         \n",
       "2                                      Investigation         \n",
       "3                                         Inspection         \n",
       "4                                         Inspection         \n",
       "\n",
       "   Activity ID (Inspection ID, Assessment ID,  Investigation Number )  \\\n",
       "0                                            2573857                    \n",
       "1                                            2567054                    \n",
       "2                                            2567054                    \n",
       "3                                            3764325                    \n",
       "4                                            3764325                    \n",
       "\n",
       "  Type (Inspection Type / Assessment Type)       Activity Date  \\\n",
       "0                                      NaN 2019-12-02 00:00:00   \n",
       "1                                      NaN 2019-11-05 00:00:00   \n",
       "2                                      NaN 2019-11-05 00:00:00   \n",
       "3                   Monitoring  Inspection 2019-10-28 16:30:00   \n",
       "4                   Monitoring  Inspection 2019-10-28 16:30:00   \n",
       "\n",
       "   Standard Cited Standard Weight Citation Status (Admin Review Status)  \\\n",
       "0      748.683(1)          Medium                                Waived   \n",
       "1  748.1693(a)(1)            High                                Waived   \n",
       "2     748.3301(a)            High                                Waived   \n",
       "3  748.1205(a)(1)      Medium Low                                Waived   \n",
       "4  748.1205(a)(4)             Low                                Waived   \n",
       "\n",
       "                                Standard Description  \n",
       "0  Caregiver Supervision-Provide oversight of car...  \n",
       "1  Nutrition-Provide food of adequate variety, qu...  \n",
       "2  Physical Site-Buildings must be structurally s...  \n",
       "3  Admission Documentation-Includes child's name,...  \n",
       "4  Admission Documentation-Includes names, addres...  "
      ]
     },
     "execution_count": 33,
     "metadata": {},
     "output_type": "execute_result"
    }
   ],
   "source": [
    "df_4.head()"
   ]
  },
  {
   "cell_type": "markdown",
   "metadata": {},
   "source": [
    "#### Contingency table for 'Standard Weight' and 'Citation Status (Admin Review Status)'"
   ]
  },
  {
   "cell_type": "code",
   "execution_count": 34,
   "metadata": {},
   "outputs": [
    {
     "data": {
      "text/html": [
       "<div>\n",
       "<style scoped>\n",
       "    .dataframe tbody tr th:only-of-type {\n",
       "        vertical-align: middle;\n",
       "    }\n",
       "\n",
       "    .dataframe tbody tr th {\n",
       "        vertical-align: top;\n",
       "    }\n",
       "\n",
       "    .dataframe thead th {\n",
       "        text-align: right;\n",
       "    }\n",
       "</style>\n",
       "<table border=\"1\" class=\"dataframe\">\n",
       "  <thead>\n",
       "    <tr style=\"text-align: right;\">\n",
       "      <th>Citation Status (Admin Review Status)</th>\n",
       "      <th>Upheld</th>\n",
       "      <th>Waived</th>\n",
       "    </tr>\n",
       "    <tr>\n",
       "      <th>Standard Weight</th>\n",
       "      <th></th>\n",
       "      <th></th>\n",
       "    </tr>\n",
       "  </thead>\n",
       "  <tbody>\n",
       "    <tr>\n",
       "      <td>High</td>\n",
       "      <td>2</td>\n",
       "      <td>60</td>\n",
       "    </tr>\n",
       "    <tr>\n",
       "      <td>Low</td>\n",
       "      <td>0</td>\n",
       "      <td>16</td>\n",
       "    </tr>\n",
       "    <tr>\n",
       "      <td>Medium</td>\n",
       "      <td>1</td>\n",
       "      <td>23</td>\n",
       "    </tr>\n",
       "    <tr>\n",
       "      <td>Medium High</td>\n",
       "      <td>3</td>\n",
       "      <td>49</td>\n",
       "    </tr>\n",
       "    <tr>\n",
       "      <td>Medium Low</td>\n",
       "      <td>1</td>\n",
       "      <td>16</td>\n",
       "    </tr>\n",
       "  </tbody>\n",
       "</table>\n",
       "</div>"
      ],
      "text/plain": [
       "Citation Status (Admin Review Status)  Upheld  Waived\n",
       "Standard Weight                                      \n",
       "High                                        2      60\n",
       "Low                                         0      16\n",
       "Medium                                      1      23\n",
       "Medium High                                 3      49\n",
       "Medium Low                                  1      16"
      ]
     },
     "execution_count": 34,
     "metadata": {},
     "output_type": "execute_result"
    }
   ],
   "source": [
    "table_7=pd.crosstab(df_4['Standard Weight'],df_4['Citation Status (Admin Review Status)'])\n",
    "table_7"
   ]
  },
  {
   "cell_type": "markdown",
   "metadata": {},
   "source": [
    "#### Use Chi-Squared test"
   ]
  },
  {
   "cell_type": "code",
   "execution_count": 35,
   "metadata": {},
   "outputs": [
    {
     "name": "stdout",
     "output_type": "stream",
     "text": [
      "P-value:0.8592300854794211\n"
     ]
    }
   ],
   "source": [
    "chi2_test = chi2_contingency(table_7)\n",
    "print('P-value:{}'.format(chi2_test[1]))"
   ]
  },
  {
   "cell_type": "code",
   "execution_count": 36,
   "metadata": {},
   "outputs": [],
   "source": [
    "df_4.loc[(df_4['Activity Date']>= '2019-09-01') & (df_4['Activity Date'] <= '2020-08-31'),'Activity Year'] =2020\n",
    "df_4.loc[(df_4['Activity Date']>= '2018-09-01') & (df_4['Activity Date'] <= '2019-08-31'),'Activity Year'] =2019\n",
    "df_4.loc[(df_4['Activity Date']>= '2017-09-01') & (df_4['Activity Date'] <= '2018-08-31'),'Activity Year'] =2018\n",
    "df_4.loc[(df_4['Activity Date']>= '2016-09-01') & (df_4['Activity Date'] <= '2017-08-31'),'Activity Year'] =2017\n",
    "df_4.loc[(df_4['Activity Date']>= '2015-09-01') & (df_4['Activity Date'] <= '2016-08-31'),'Activity Year'] =2016\n",
    "df_4.loc[(df_4['Activity Date']>= '2014-09-01') & (df_4['Activity Date'] <= '2015-08-31'),'Activity Year'] =2015\n",
    "df_4.loc[(df_4['Activity Date']>= '2013-09-01') & (df_4['Activity Date'] <= '2014-08-31'),'Activity Year'] =2014"
   ]
  },
  {
   "cell_type": "code",
   "execution_count": 37,
   "metadata": {},
   "outputs": [],
   "source": [
    "df_4['Activity Year']=df_4['Activity Year'].astype(np.int64)\n"
   ]
  },
  {
   "cell_type": "markdown",
   "metadata": {},
   "source": [
    "#### Select data for the fiscal year 2017,2018, and 2019"
   ]
  },
  {
   "cell_type": "code",
   "execution_count": 38,
   "metadata": {},
   "outputs": [],
   "source": [
    "df_4_new=df_4[(df_4['Activity Year']==2019) | (df_4['Activity Year']==2018) | (df_4['Activity Year']==2017)]"
   ]
  },
  {
   "cell_type": "markdown",
   "metadata": {},
   "source": [
    "#### Contingency table for 'Activity Year' and 'Citation Status (Admin Review Status)'"
   ]
  },
  {
   "cell_type": "code",
   "execution_count": 39,
   "metadata": {},
   "outputs": [
    {
     "data": {
      "text/html": [
       "<div>\n",
       "<style scoped>\n",
       "    .dataframe tbody tr th:only-of-type {\n",
       "        vertical-align: middle;\n",
       "    }\n",
       "\n",
       "    .dataframe tbody tr th {\n",
       "        vertical-align: top;\n",
       "    }\n",
       "\n",
       "    .dataframe thead th {\n",
       "        text-align: right;\n",
       "    }\n",
       "</style>\n",
       "<table border=\"1\" class=\"dataframe\">\n",
       "  <thead>\n",
       "    <tr style=\"text-align: right;\">\n",
       "      <th>Activity Year</th>\n",
       "      <th>2017</th>\n",
       "      <th>2018</th>\n",
       "      <th>2019</th>\n",
       "      <th>All</th>\n",
       "    </tr>\n",
       "    <tr>\n",
       "      <th>Citation Status (Admin Review Status)</th>\n",
       "      <th></th>\n",
       "      <th></th>\n",
       "      <th></th>\n",
       "      <th></th>\n",
       "    </tr>\n",
       "  </thead>\n",
       "  <tbody>\n",
       "    <tr>\n",
       "      <td>Upheld</td>\n",
       "      <td>2</td>\n",
       "      <td>1</td>\n",
       "      <td>4</td>\n",
       "      <td>7</td>\n",
       "    </tr>\n",
       "    <tr>\n",
       "      <td>Waived</td>\n",
       "      <td>38</td>\n",
       "      <td>21</td>\n",
       "      <td>64</td>\n",
       "      <td>123</td>\n",
       "    </tr>\n",
       "    <tr>\n",
       "      <td>All</td>\n",
       "      <td>40</td>\n",
       "      <td>22</td>\n",
       "      <td>68</td>\n",
       "      <td>130</td>\n",
       "    </tr>\n",
       "  </tbody>\n",
       "</table>\n",
       "</div>"
      ],
      "text/plain": [
       "Activity Year                          2017  2018  2019  All\n",
       "Citation Status (Admin Review Status)                       \n",
       "Upheld                                    2     1     4    7\n",
       "Waived                                   38    21    64  123\n",
       "All                                      40    22    68  130"
      ]
     },
     "execution_count": 39,
     "metadata": {},
     "output_type": "execute_result"
    }
   ],
   "source": [
    "table_8=pd.crosstab(df_4_new['Activity Year'],df_4_new['Citation Status (Admin Review Status)'],margins=True)\n",
    "table_8.T"
   ]
  },
  {
   "cell_type": "code",
   "execution_count": 43,
   "metadata": {
    "scrolled": true
   },
   "outputs": [
    {
     "data": {
      "image/png": "[encoded data removed]",
      "text/plain": [
       "<Figure size 432x288 with 1 Axes>"
      ]
     },
     "metadata": {},
     "output_type": "display_data"
    }
   ],
   "source": [
    "#fig, ax1 = plt.subplots(figsize=(3,2))\n",
    "\n",
    "sns.set_style('whitegrid')\n",
    "\n",
    "p=sns.countplot(x='Activity Year',\n",
    "              hue='Citation Status (Admin Review Status)',\n",
    "              data=df_4_new,\n",
    "              palette=[\"red\", \"blue\"])\n",
    "\n",
    "p.set(xlabel='Fiscal Year', ylabel='Citation Status',title='Citation Status Vs. Fiscal Year')\n",
    "\n",
    "leg=p.get_legend()\n",
    "\n",
    "leg.set_title('Citation Status')\n",
    "\n",
    "leg.set_bbox_to_anchor([1,1])\n",
    "\n",
    "for t in p.patches:\n",
    "    height = t.get_height()\n",
    "    p.text(t.get_x()+t.get_width()/2., height + 0.1,height ,ha=\"center\")"
   ]
  },
  {
   "cell_type": "code",
   "execution_count": 41,
   "metadata": {},
   "outputs": [
    {
     "data": {
      "image/png": "[encoded data removed]",
      "text/plain": [
       "<Figure size 792x288 with 2 Axes>"
      ]
     },
     "metadata": {},
     "output_type": "display_data"
    }
   ],
   "source": [
    "fig,(ax1,ax2)=plt.subplots(1,2,figsize=(11,4))\n",
    "\n",
    "p=sns.countplot(x='Activity Year',\n",
    "              hue='Citation Status (Admin Review Status)',\n",
    "              data=df_4_new,\n",
    "              palette=[\"red\", \"blue\"],\n",
    "              ax=ax2)\n",
    "p.set(xlabel='Fiscal Year', ylabel='Citation Status',title='Citation Status vs. Fiscal Year')\n",
    "leg=p.get_legend()\n",
    "leg.set_title('Citation Status')\n",
    "leg.set_bbox_to_anchor([1,1])\n",
    "for t in p.patches:\n",
    "    height = t.get_height()\n",
    "    p.text(t.get_x()+t.get_width()/2., height + 0.1,height ,ha=\"center\")\n",
    "    \n",
    "\n",
    "g=sns.countplot(x='Fiscal Year Investigation Opened',\n",
    "              hue='Allegation Disposition',\n",
    "              data=df_3_new,\n",
    "              palette=[\"blue\",\"green\",\"red\"],\n",
    "              ax=ax1)\n",
    "g.set(xlabel='Fiscal Year Investigation Opened', ylabel='Allegation Disposition',title='Allegation Disposition vs. Fiscal Year Investigation Opened')\n",
    "leg=g.get_legend()\n",
    "leg.set_title('Allegation Disposition')\n",
    "leg.set_bbox_to_anchor([1,1])\n",
    "for p in g.patches:\n",
    "        g.annotate('{:.0f}'.format(p.get_height()), (p.get_x()+0.15, p.get_height()),\n",
    "                        ha='center', va='bottom',color= 'black')\n",
    "fig.tight_layout(pad=3.0)"
   ]
  },
  {
   "cell_type": "code",
   "execution_count": 44,
   "metadata": {},
   "outputs": [
    {
     "data": {
      "image/png": "[encoded data removed]",
      "text/plain": [
       "<Figure size 792x216 with 2 Axes>"
      ]
     },
     "metadata": {},
     "output_type": "display_data"
    }
   ],
   "source": [
    "fig,(ax3,ax4)=plt.subplots(1,2,figsize=(11,3))\n",
    "\n",
    "g=sns.countplot(x='FISCAL INTAKE YEAR',\n",
    "              hue='ALLEGATION',\n",
    "              data=df_2_new,\n",
    "              palette=[\"purple\",\"red\",\"blue\",\"green\"],\n",
    "              ax=ax3)\n",
    "g.set(xlabel='Fiscal Year', ylabel='Allegation',title='Allegation vs. Fiscal Year')\n",
    "leg=g.get_legend()\n",
    "leg.set_title('Allegation Type')\n",
    "leg.set_bbox_to_anchor([1,1])\n",
    "for p in g.patches:\n",
    "        g.annotate('{:.0f}'.format(p.get_height()), (p.get_x()+0.10, p.get_height()),\n",
    "                        ha='center', va='bottom',color= 'black')\n",
    "\n",
    "        \n",
    "v=sns.countplot(x='FISCAL INTAKE YEAR',\n",
    "              hue='PERPETRATOR RELATIONSHIP',\n",
    "              data=df_2_new,\n",
    "              palette=[\"red\",\"blue\",\"green\"],\n",
    "              ax=ax4)\n",
    "v.set(xlabel='Fiscal Year', ylabel='Perpetrator Relationship',title='Perpetrator Relationship vs. Fiscal Year')\n",
    "leg=v.get_legend()\n",
    "leg.set_title('Perpetrator Relationship')\n",
    "leg.set_bbox_to_anchor([1,1])\n",
    "for p in v.patches:\n",
    "        v.annotate('{:.0f}'.format(p.get_height()), (p.get_x()+0.15, p.get_height()),\n",
    "                        ha='center', va='bottom',color= 'black')\n",
    "fig.tight_layout(pad=1.0)"
   ]
  }
 ],
 "metadata": {
  "kernelspec": {
   "display_name": "Python 3",
   "language": "python",
   "name": "python3"
  },
  "language_info": {
   "codemirror_mode": {
    "name": "ipython",
    "version": 3
   },
   "file_extension": ".py",
   "mimetype": "text/x-python",
   "name": "python",
   "nbconvert_exporter": "python",
   "pygments_lexer": "ipython3",
   "version": "3.7.4"
  }
 },
 "nbformat": 4,
 "nbformat_minor": 2
}
