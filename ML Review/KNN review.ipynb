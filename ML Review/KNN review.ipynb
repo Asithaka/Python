{
 "cells": [
  {
   "cell_type": "code",
   "execution_count": 164,
   "metadata": {},
   "outputs": [],
   "source": [
    "def Euclidean_distance (row1,row2):\n",
    "    distance=0.0\n",
    "    for i in range(len(row1)-1):\n",
    "        distance+=(row1[i]-row2[i])**2\n",
    "        return sqrt(distance)"
   ]
  },
  {
   "cell_type": "code",
   "execution_count": 165,
   "metadata": {},
   "outputs": [],
   "source": [
    "def my_neighbours(data,test_point,num_neighbours):\n",
    "    distance=list()\n",
    "    for row in data:\n",
    "        dis=Euclidean_distance(test_point,row)\n",
    "        distance.append((row,dis))\n",
    "    distance.sort(key=lambda x:x[1])\n",
    "    neighburs=list()\n",
    "    for i in range(num_neighbours):\n",
    "        neighburs.append(distance[i][0])\n",
    "    return neighburs"
   ]
  },
  {
   "cell_type": "code",
   "execution_count": 166,
   "metadata": {},
   "outputs": [],
   "source": [
    "def get_prediction(data,test_point,num_neighbours):\n",
    "    neighbours=my_neighbours(data,test_point,num_neighbours)\n",
    "    labels=list()\n",
    "    for row in neighbours:\n",
    "        labels.append(row[-1])\n",
    "    return max(labels,key=labels.count)"
   ]
  },
  {
   "cell_type": "code",
   "execution_count": 167,
   "metadata": {},
   "outputs": [],
   "source": [
    "dataset = [[2.106,2.057,2],\n",
    "           [2.154,2.462,2],\n",
    "           [3.296,4.620,1],\n",
    "           [2.301,1.755,1],\n",
    "           [3.723,3.305,0],\n",
    "           [7.431,2.225,1],\n",
    "           [5.444,2.865,0],\n",
    "           [8.592,1.767,1],\n",
    "           [9.181,0.255,0],\n",
    "           [7.566,3.811,1]]"
   ]
  },
  {
   "cell_type": "code",
   "execution_count": 168,
   "metadata": {},
   "outputs": [
    {
     "name": "stdout",
     "output_type": "stream",
     "text": [
      "[2.106, 2.057, 2]\n",
      "[2.154, 2.462, 2]\n",
      "[2.301, 1.755, 1]\n"
     ]
    }
   ],
   "source": [
    "neighbors = my_neighbours(data=dataset,test_point=dataset[0],num_neighbours=3)\n",
    "for i in neighbors:\n",
    "    print(i)  "
   ]
  },
  {
   "cell_type": "code",
   "execution_count": 169,
   "metadata": {},
   "outputs": [
    {
     "name": "stdout",
     "output_type": "stream",
     "text": [
      "Expected 2, Got 2.\n"
     ]
    }
   ],
   "source": [
    "prediction = get_prediction(dataset, dataset[0], 3)\n",
    "print('Expected %d, Got %d.' % (dataset[0][-1], prediction))"
   ]
  }
 ],
 "metadata": {
  "kernelspec": {
   "display_name": "Python 3",
   "language": "python",
   "name": "python3"
  },
  "language_info": {
   "codemirror_mode": {
    "name": "ipython",
    "version": 3
   },
   "file_extension": ".py",
   "mimetype": "text/x-python",
   "name": "python",
   "nbconvert_exporter": "python",
   "pygments_lexer": "ipython3",
   "version": "3.8.3"
  }
 },
 "nbformat": 4,
 "nbformat_minor": 4
}
